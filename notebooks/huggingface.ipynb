{
 "cells": [
  {
   "attachments": {},
   "cell_type": "markdown",
   "metadata": {},
   "source": [
    "# Hugging Face JS libraries"
   ]
  },
  {
   "attachments": {},
   "cell_type": "markdown",
   "metadata": {},
   "source": [
    "* [@huggingface/hub](https://huggingface.co/docs/huggingface.js/hub/README): Interact with huggingface.co to create or delete repos and commit / download files\n",
    "* [@huggingface/inference](https://huggingface.co/docs/huggingface.js/inference/README): Use the Inference API to make calls to 100,000+ Machine Learning models, or your own inference endpoints!\n",
    "* [@xenova/transformers](https://huggingface.co/docs/transformers.js/index): State-of-the-art Machine Learning for the web. Run 🤗 Transformers directly in your browser, with no need for a server!"
   ]
  },
  {
   "attachments": {},
   "cell_type": "markdown",
   "metadata": {},
   "source": [
    "----\n",
    "\n",
    "### Loading (API)\n",
    "\n",
    "The library runs on Node.js and in browser environments and is available on npm [@huggingface/inference](https://www.npmjs.com/package/@huggingface/inference). To load it in a browser/notebook, you can use ES modules via [jsdeliver.net](jsdelivr.com/)"
   ]
  },
  {
   "cell_type": "code",
   "execution_count": 1,
   "metadata": {
    "dotnet_interactive": {
     "language": "javascript"
    },
    "polyglot_notebook": {
     "kernelName": "javascript"
    }
   },
   "outputs": [],
   "source": [
    "#!set --name apiKey --value @password:\"Please enter your api key:\""
   ]
  },
  {
   "cell_type": "code",
   "execution_count": 2,
   "metadata": {
    "dotnet_interactive": {
     "language": "javascript"
    },
    "polyglot_notebook": {
     "kernelName": "javascript"
    }
   },
   "outputs": [],
   "source": [
    "HFInference = (await import('https://cdn.jsdelivr.net/npm/@huggingface/inference@2.5.1/+esm')).HfInference"
   ]
  },
  {
   "cell_type": "code",
   "execution_count": 1,
   "metadata": {
    "dotnet_interactive": {
     "language": "javascript"
    },
    "polyglot_notebook": {
     "kernelName": "javascript"
    }
   },
   "outputs": [],
   "source": [
    "hf = new HFInference() // TODO: Add api-key to shell variables and access from notebook"
   ]
  },
  {
   "cell_type": "code",
   "execution_count": 6,
   "metadata": {
    "dotnet_interactive": {
     "language": "javascript"
    },
    "polyglot_notebook": {
     "kernelName": "javascript"
    }
   },
   "outputs": [
    {
     "data": {
      "application/json": {
       "generated_text": "Is paris on the moon?\n\nA:\n\nI think the moon is a good"
      }
     },
     "metadata": {},
     "output_type": "display_data"
    }
   ],
   "source": [
    "let textGenIn = \"Is paris on the moon?\";\n",
    "let textGenRes = await hf.textGeneration({\n",
    "  model: \"EleutherAI/pythia-70m-deduped\",\n",
    "  inputs: textGenIn\n",
    "});\n",
    "console.log(textGenRes)"
   ]
  },
  {
   "attachments": {},
   "cell_type": "markdown",
   "metadata": {},
   "source": [
    "----\n",
    "\n",
    "### Loading (\"Local\")\n",
    "\n",
    "The library runs on Node.js and in browser environments and is available on npm [@xenova/transformers](https://www.npmjs.com/package/@xenova/transformers). To load it in a browser/notebook, you can use ES modules via [jsdeliver.net](jsdelivr.com/)"
   ]
  },
  {
   "cell_type": "code",
   "execution_count": null,
   "metadata": {
    "dotnet_interactive": {
     "language": "pwsh"
    },
    "polyglot_notebook": {
     "kernelName": "pwsh"
    }
   },
   "outputs": [],
   "source": [
    "bash -c \"git lfs install\"\n",
    "bash -c \"mkdir -p ./.cache/models ./.cache/backends\"\n",
    "bash -c \"git -C ./.cache/models/ clone https://huggingface.co/EleutherAI/pythia-70m-deduped/\"\n",
    "bash -c \"git -C ./.cache/models/ clone https://huggingface.co/Xenova/t5-small\"\n",
    "bash -c \"wget -qr -P ./.cache/backends --no-parent --no-directories -A '*.wasm' https://cdn.jsdelivr.net/npm/@xenova/transformers@2.2.0/\""
   ]
  },
  {
   "cell_type": "code",
   "execution_count": 31,
   "metadata": {
    "dotnet_interactive": {
     "language": "javascript"
    },
    "polyglot_notebook": {
     "kernelName": "javascript"
    }
   },
   "outputs": [],
   "source": [
    "transformers = await import('https://cdn.jsdelivr.net/npm/@xenova/transformers@2.2.0');\n",
    "env = transformers.env;\n",
    "pipeline = transformers.pipeline"
   ]
  },
  {
   "cell_type": "code",
   "execution_count": 32,
   "metadata": {
    "dotnet_interactive": {
     "language": "javascript"
    },
    "polyglot_notebook": {
     "kernelName": "javascript"
    }
   },
   "outputs": [
    {
     "data": {
      "application/json": {
       "__dirname": "./",
       "allowLocalModels": true,
       "allowRemoteModels": false,
       "backends": {
        "onnx": {
         "logLevelInternal": "warning",
         "wasm": {
          "initTimeout": 0,
          "numThreads": 2,
          "proxy": false,
          "simd": true,
          "wasmPaths": "./.cache/backends/"
         },
         "webgl": {}
        },
        "tfjs": {}
       },
       "cacheDir": null,
       "localModelPath": "./.cache/models",
       "remoteHost": "https://huggingface.co/",
       "remotePathTemplate": "{model}/resolve/{revision}/",
       "useBrowserCache": true,
       "useFS": false,
       "useFSCache": false,
       "version": "2.2.0"
      }
     },
     "metadata": {},
     "output_type": "display_data"
    }
   ],
   "source": [
    "// Specify a custom location for models (defaults to '/models/').\n",
    "env.allowLocalModels = true\n",
    "env.localModelPath = './.cache/models';\n",
    "// Disable the loading of remote models from the Hugging Face Hub:\n",
    "env.allowRemoteModels = false;\n",
    "// Set location of .wasm files. Defaults to use a CDN.\n",
    "env.backends.onnx.wasm.wasmPaths = './.cache/backends/';\n",
    "console.log(env);"
   ]
  },
  {
   "cell_type": "code",
   "execution_count": 26,
   "metadata": {
    "dotnet_interactive": {
     "language": "javascript"
    },
    "polyglot_notebook": {
     "kernelName": "javascript"
    }
   },
   "outputs": [
    {
     "ename": "Error",
     "evalue": "no available backend found. ERR: ",
     "output_type": "error",
     "traceback": [
      "no available backend found. ERR: "
     ]
    }
   ],
   "source": [
    "modellm = await transformers.AutoModelForCausalLM.from_pretrained('t5-small')"
   ]
  },
  {
   "cell_type": "code",
   "execution_count": 25,
   "metadata": {
    "dotnet_interactive": {
     "language": "javascript"
    },
    "polyglot_notebook": {
     "kernelName": "javascript"
    }
   },
   "outputs": [
    {
     "ename": "Error",
     "evalue": "no available backend found. ERR: ",
     "output_type": "error",
     "traceback": [
      "no available backend found. ERR: "
     ]
    }
   ],
   "source": [
    "let poet = await pipeline('text2text-generation', 't5-small');\n",
    "let result = await poet('Where is paris?', {\n",
    "    max_new_tokens: 200\n",
    "    // temperature: 0.9,\n",
    "    // repetition_penalty: 2.0,\n",
    "    // no_repeat_ngram_size: 3,\n",
    "    // top_k: 20,\n",
    "    // do_sample: true,\n",
    "});\n",
    "console.log(result)"
   ]
  },
  {
   "cell_type": "code",
   "execution_count": 16,
   "metadata": {
    "dotnet_interactive": {
     "language": "javascript"
    },
    "polyglot_notebook": {
     "kernelName": "javascript"
    }
   },
   "outputs": [
    {
     "data": {
      "text/plain": [
       "No model specified. Using default model: \"Xenova/distilbert-base-uncased-finetuned-sst-2-english\"."
      ]
     },
     "metadata": {},
     "output_type": "display_data"
    },
    {
     "ename": "Error",
     "evalue": "Unexpected token 'R', \"Request Timeout\" is not valid JSON",
     "output_type": "error",
     "traceback": [
      "Unexpected token 'R', \"Request Timeout\" is not valid JSON"
     ]
    }
   ],
   "source": [
    "console.log(await pipeline('sentiment-analysis'))"
   ]
  },
  {
   "attachments": {},
   "cell_type": "markdown",
   "metadata": {},
   "source": [
    "# General Notes\n",
    "\n",
    "\n",
    "## Models in Action\n",
    "\n",
    "### Real-time video editing\n",
    " * https://app.runwayml.com\n",
    " * https://twitter.com/StabilityAI_JP\n",
    " "
   ]
  },
  {
   "cell_type": "code",
   "execution_count": null,
   "metadata": {
    "dotnet_interactive": {
     "language": "javascript"
    },
    "polyglot_notebook": {
     "kernelName": "javascript"
    }
   },
   "outputs": [],
   "source": [
    "// Discard\n",
    "huggingFaceHub = await import('https://cdn.jsdelivr.net/npm/@huggingface/hub@0.8.3/+esm');\n",
    "repo = { type: \"model\", name: \"EleutherAI/pythia-70m-deduped\" };\n",
    "config = await huggingFaceHub.downloadFile({repo: repo, path: \"config.json\"});\n",
    "model = await huggingFaceHub.downloadFile({repo: repo, path: \"pytorch_model.bin\"});"
   ]
  },
  {
   "cell_type": "code",
   "execution_count": null,
   "metadata": {
    "dotnet_interactive": {
     "language": "javascript"
    },
    "polyglot_notebook": {
     "kernelName": "javascript"
    }
   },
   "outputs": [],
   "source": []
  }
 ],
 "metadata": {
  "kernelspec": {
   "display_name": ".NET (C#)",
   "language": "C#",
   "name": ".net-csharp"
  },
  "language_info": {
   "name": "polyglot-notebook"
  },
  "polyglot_notebook": {
   "kernelInfo": {
    "defaultKernelName": "csharp",
    "items": [
     {
      "aliases": [],
      "name": "csharp"
     },
     {
      "aliases": [],
      "languageName": "javascript",
      "name": "javascript"
     }
    ]
   }
  }
 },
 "nbformat": 4,
 "nbformat_minor": 2
}
