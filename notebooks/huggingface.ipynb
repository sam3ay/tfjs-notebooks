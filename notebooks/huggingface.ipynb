{
 "cells": [
  {
   "attachments": {},
   "cell_type": "markdown",
   "metadata": {},
   "source": [
    "# Hugging Face JS libraries"
   ]
  },
  {
   "attachments": {},
   "cell_type": "markdown",
   "metadata": {},
   "source": [
    "* [@huggingface/hub](https://huggingface.co/docs/huggingface.js/hub/README): Interact with huggingface.co to create or delete repos and commit / download files\n",
    "* [@huggingface/inference](https://huggingface.co/docs/huggingface.js/inference/README): Use the Inference API to make calls to 100,000+ Machine Learning models, or your own inference endpoints!\n",
    "* [@xenova/transformers](https://huggingface.co/docs/transformers.js/index): State-of-the-art Machine Learning for the web. Run 🤗 Transformers directly in your browser, with no need for a server!"
   ]
  },
  {
   "attachments": {},
   "cell_type": "markdown",
   "metadata": {},
   "source": [
    "----\n",
    "\n",
    "### Loading (API)\n",
    "\n",
    "The library runs on Node.js and in browser environments and is available on npm [@huggingface/inference](https://www.npmjs.com/package/@huggingface/inference). To load it in a browser/notebook, you can use ES modules via [jsdeliver.net](jsdelivr.com/)"
   ]
  },
  {
   "cell_type": "code",
   "execution_count": 29,
   "metadata": {
    "dotnet_interactive": {
     "language": "javascript"
    },
    "polyglot_notebook": {
     "kernelName": "javascript"
    }
   },
   "outputs": [],
   "source": [
    "HFInference = (await import('https://cdn.jsdelivr.net/npm/@huggingface/inference@2.5.1/+esm')).HfInference"
   ]
  },
  {
   "cell_type": "code",
   "execution_count": 30,
   "metadata": {
    "dotnet_interactive": {
     "language": "javascript"
    },
    "polyglot_notebook": {
     "kernelName": "javascript"
    }
   },
   "outputs": [],
   "source": [
    "hf = new HFInference() // TODO: Add api-key to shell variables and access from notebook"
   ]
  },
  {
   "cell_type": "code",
   "execution_count": 40,
   "metadata": {
    "dotnet_interactive": {
     "language": "javascript"
    },
    "polyglot_notebook": {
     "kernelName": "javascript"
    }
   },
   "outputs": [],
   "source": [
    "textGenIn = \"Where is Paris?\""
   ]
  },
  {
   "cell_type": "code",
   "execution_count": 41,
   "metadata": {
    "dotnet_interactive": {
     "language": "javascript"
    },
    "polyglot_notebook": {
     "kernelName": "javascript"
    }
   },
   "outputs": [],
   "source": [
    "textGenRes = await hf.textGeneration({\n",
    "  model: \"EleutherAI/pythia-70m-deduped\",\n",
    "  inputs: textGenIn\n",
    "})"
   ]
  },
  {
   "cell_type": "code",
   "execution_count": 42,
   "metadata": {
    "dotnet_interactive": {
     "language": "javascript"
    },
    "polyglot_notebook": {
     "kernelName": "javascript"
    }
   },
   "outputs": [
    {
     "data": {
      "application/json": {
       "generated_text": "Where is Paris?\n\nI am not a Frenchman, but I am a Frenchman."
      }
     },
     "metadata": {},
     "output_type": "display_data"
    }
   ],
   "source": [
    "console.log(textGenRes)"
   ]
  },
  {
   "attachments": {},
   "cell_type": "markdown",
   "metadata": {},
   "source": [
    "----\n",
    "\n",
    "### Loading (\"Local\")\n",
    "\n",
    "The library runs on Node.js and in browser environments and is available on npm [@xenova/transformers](https://www.npmjs.com/package/@xenova/transformers). To load it in a browser/notebook, you can use ES modules via [jsdeliver.net](jsdelivr.com/)"
   ]
  },
  {
   "cell_type": "code",
   "execution_count": 43,
   "metadata": {
    "dotnet_interactive": {
     "language": "javascript"
    },
    "polyglot_notebook": {
     "kernelName": "javascript"
    }
   },
   "outputs": [],
   "source": [
    "transformers = await import('https://cdn.jsdelivr.net/npm/@xenova/transformers@2.2.0')"
   ]
  },
  {
   "cell_type": "code",
   "execution_count": 53,
   "metadata": {
    "dotnet_interactive": {
     "language": "javascript"
    },
    "polyglot_notebook": {
     "kernelName": "javascript"
    }
   },
   "outputs": [
    {
     "ename": "Error",
     "evalue": "Unexpected token 'U', \"Unauthorized\" is not valid JSON",
     "output_type": "error",
     "traceback": [
      "Unexpected token 'U', \"Unauthorized\" is not valid JSON"
     ]
    }
   ],
   "source": [
    "model = await transformers.AutoModelForCausalLM.from_pretrained(\"EleutherAI/pythia-70m-deduped\")"
   ]
  },
  {
   "attachments": {},
   "cell_type": "markdown",
   "metadata": {},
   "source": [
    "# General Notes\n",
    "\n",
    "\n",
    "## Models in Action\n",
    "\n",
    "### Real-time video editing\n",
    " * https://app.runwayml.com\n",
    " * https://twitter.com/StabilityAI_JP\n",
    " "
   ]
  }
 ],
 "metadata": {
  "kernelspec": {
   "display_name": ".NET (C#)",
   "language": "C#",
   "name": ".net-csharp"
  },
  "language_info": {
   "name": "polyglot-notebook"
  },
  "polyglot_notebook": {
   "kernelInfo": {
    "defaultKernelName": "csharp",
    "items": [
     {
      "aliases": [],
      "name": "csharp"
     },
     {
      "aliases": [],
      "languageName": "javascript",
      "name": "javascript"
     }
    ]
   }
  }
 },
 "nbformat": 4,
 "nbformat_minor": 2
}
