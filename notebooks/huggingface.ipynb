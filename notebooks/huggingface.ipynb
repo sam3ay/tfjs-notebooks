{
 "cells": [
  {
   "attachments": {},
   "cell_type": "markdown",
   "metadata": {},
   "source": [
    "# Hugging Face JS libraries"
   ]
  },
  {
   "attachments": {},
   "cell_type": "markdown",
   "metadata": {},
   "source": [
    "* [@huggingface/hub](https://huggingface.co/docs/huggingface.js/hub/README): Interact with huggingface.co to create or delete repos and commit / download files\n",
    "* [@huggingface/inference](https://huggingface.co/docs/huggingface.js/inference/README): Use the Inference API to make calls to 100,000+ Machine Learning models, or your own inference endpoints!\n",
    "* [@xenova/transformers](https://huggingface.co/docs/transformers.js/index): State-of-the-art Machine Learning for the web. Run 🤗 Transformers directly in your browser, with no need for a server!"
   ]
  },
  {
   "attachments": {},
   "cell_type": "markdown",
   "metadata": {},
   "source": [
    "----\n",
    "\n",
    "### Loading (API)\n",
    "\n",
    "The library runs on Node.js and in browser environments and is available on npm [@huggingface/inference](https://www.npmjs.com/package/@huggingface/inference). To load it in a browser/notebook, you can use ES modules via [jsdeliver.net](jsdelivr.com/)"
   ]
  },
  {
   "cell_type": "code",
   "execution_count": 1,
   "metadata": {
    "dotnet_interactive": {
     "language": "javascript"
    },
    "polyglot_notebook": {
     "kernelName": "javascript"
    }
   },
   "outputs": [],
   "source": [
    "#!set --name apiKey --value @password:\"Please enter your api key:\""
   ]
  },
  {
   "cell_type": "code",
   "execution_count": 8,
   "metadata": {
    "dotnet_interactive": {
     "language": "javascript"
    },
    "polyglot_notebook": {
     "kernelName": "javascript"
    }
   },
   "outputs": [],
   "source": [
    "HFInference = (await import('https://cdn.jsdelivr.net/npm/@huggingface/inference@2.5.1/+esm')).HfInference"
   ]
  },
  {
   "cell_type": "code",
   "execution_count": 9,
   "metadata": {
    "dotnet_interactive": {
     "language": "javascript"
    },
    "polyglot_notebook": {
     "kernelName": "javascript"
    }
   },
   "outputs": [],
   "source": [
    "hf = new HFInference() // TODO: Add api-key to shell variables and access from notebook"
   ]
  },
  {
   "cell_type": "code",
   "execution_count": 14,
   "metadata": {
    "dotnet_interactive": {
     "language": "javascript"
    },
    "polyglot_notebook": {
     "kernelName": "javascript"
    }
   },
   "outputs": [
    {
     "data": {
      "application/json": {
       "generated_text": "Where is Paris?\n\nI am not a Frenchman, but I am a Frenchman."
      }
     },
     "metadata": {},
     "output_type": "display_data"
    }
   ],
   "source": [
    "let textGenIn = \"Where is Paris?\";\n",
    "let textGenRes = await hf.textGeneration({\n",
    "  model: \"EleutherAI/pythia-70m-deduped\",\n",
    "  inputs: textGenIn\n",
    "});\n",
    "console.log(textGenRes)"
   ]
  },
  {
   "attachments": {},
   "cell_type": "markdown",
   "metadata": {},
   "source": [
    "----\n",
    "\n",
    "### Loading (\"Local\")\n",
    "\n",
    "The library runs on Node.js and in browser environments and is available on npm [@xenova/transformers](https://www.npmjs.com/package/@xenova/transformers). To load it in a browser/notebook, you can use ES modules via [jsdeliver.net](jsdelivr.com/)"
   ]
  },
  {
   "cell_type": "code",
   "execution_count": 57,
   "metadata": {
    "dotnet_interactive": {
     "language": "pwsh"
    },
    "polyglot_notebook": {
     "kernelName": "pwsh"
    }
   },
   "outputs": [
    {
     "name": "stdout",
     "output_type": "stream",
     "text": [
      "Updated Git hooks.\n",
      "Git LFS initialized.\n",
      "\u001b[31;1mCloning into 't5-small'...\u001b[0m\n",
      "\u001b[31;1mFiltering content:  22% (2/9)\u001b[0m\n",
      "\u001b[31;1mFiltering content:  33% (3/9)\u001b[0m\n",
      "\u001b[31;1mFiltering content:  33% (3/9), 91.05 MiB | 57.97 MiB/s\u001b[0m\n",
      "\u001b[31;1mFiltering content:  44% (4/9), 91.05 MiB | 57.97 MiB/s\u001b[0m\n",
      "\u001b[31;1mFiltering content:  55% (5/9), 91.05 MiB | 57.97 MiB/s\u001b[0m\n",
      "\u001b[31;1mFiltering content:  55% (5/9), 200.08 MiB | 83.62 MiB/s\u001b[0m\n",
      "\u001b[31;1mFiltering content:  66% (6/9), 200.08 MiB | 83.62 MiB/s\u001b[0m\n",
      "\u001b[31;1mFiltering content:  66% (6/9), 334.94 MiB | 61.25 MiB/s\u001b[0m\n",
      "\u001b[31;1mFiltering content:  77% (7/9), 334.94 MiB | 61.25 MiB/s\u001b[0m\n",
      "\u001b[31;1mFiltering content:  77% (7/9), 544.63 MiB | 70.25 MiB/s\u001b[0m\n",
      "\u001b[31;1mFiltering content:  88% (8/9), 544.63 MiB | 70.25 MiB/s\u001b[0m\n",
      "\u001b[31;1mFiltering content:  88% (8/9), 766.48 MiB | 74.32 MiB/s\u001b[0m\n",
      "\u001b[31;1mFiltering content: 100% (9/9), 766.48 MiB | 74.32 MiB/s\u001b[0m\n",
      "\u001b[31;1mFiltering content: 100% (9/9), 988.18 MiB | 72.53 MiB/s\u001b[0m\n",
      "\u001b[31;1mFiltering content: 100% (9/9), 988.18 MiB | 63.93 MiB/s, done.\u001b[0m\n"
     ]
    }
   ],
   "source": [
    "bash -c \"git lfs install\"\n",
    "bash -c \"mkdir -p ./.cache/models\"\n",
    "bash -c \"git -C ./.cache/models/ clone https://huggingface.co/EleutherAI/pythia-70m-deduped/\"\n",
    "bash -c \"git -C ./.cache/models/ clone https://huggingface.co/Xenova/t5-small\""
   ]
  },
  {
   "cell_type": "code",
   "execution_count": 1,
   "metadata": {
    "dotnet_interactive": {
     "language": "javascript"
    },
    "polyglot_notebook": {
     "kernelName": "javascript"
    }
   },
   "outputs": [],
   "source": [
    "transformers = await import('https://cdn.jsdelivr.net/npm/@xenova/transformers@2.2.0')"
   ]
  },
  {
   "cell_type": "code",
   "execution_count": 2,
   "metadata": {
    "dotnet_interactive": {
     "language": "javascript"
    },
    "polyglot_notebook": {
     "kernelName": "javascript"
    }
   },
   "outputs": [
    {
     "data": {
      "application/json": {
       "__dirname": "./",
       "allowLocalModels": true,
       "allowRemoteModels": false,
       "backends": {
        "onnx": {
         "logLevelInternal": "warning",
         "wasm": {
          "wasmPaths": "https://cdn.jsdelivr.net/npm/@xenova/transformers@2.2.0/dist/"
         },
         "webgl": {}
        },
        "tfjs": {}
       },
       "cacheDir": null,
       "localModelPath": "./.cache/models",
       "remoteHost": "https://huggingface.co/",
       "remotePathTemplate": "{model}/resolve/{revision}/",
       "useBrowserCache": true,
       "useFS": false,
       "useFSCache": false,
       "version": "2.2.0"
      }
     },
     "metadata": {},
     "output_type": "display_data"
    }
   ],
   "source": [
    "// Specify a custom location for models (defaults to '/models/').\n",
    "transformers.env.localModelPath = './.cache/models';\n",
    "// Disable the loading of remote models from the Hugging Face Hub:\n",
    "transformers.env.allowRemoteModels = false;\n",
    "// Set location of .wasm files. Defaults to use a CDN.\n",
    "// transformers.env.backends.onnx.wasm.wasmPaths = './.cache/onnx';\n",
    "console.log(transformers.env)"
   ]
  },
  {
   "cell_type": "code",
   "execution_count": 3,
   "metadata": {
    "dotnet_interactive": {
     "language": "javascript"
    },
    "polyglot_notebook": {
     "kernelName": "javascript"
    }
   },
   "outputs": [
    {
     "ename": "Error",
     "evalue": "Can't create a session",
     "output_type": "error",
     "traceback": [
      "Can't create a session"
     ]
    }
   ],
   "source": [
    "modellm = await transformers.AutoModelForCausalLM.from_pretrained('t5-small')"
   ]
  },
  {
   "cell_type": "code",
   "execution_count": 7,
   "metadata": {
    "dotnet_interactive": {
     "language": "javascript"
    },
    "polyglot_notebook": {
     "kernelName": "javascript"
    }
   },
   "outputs": [
    {
     "ename": "Error",
     "evalue": "Can't create a session",
     "output_type": "error",
     "traceback": [
      "Can't create a session"
     ]
    }
   ],
   "source": [
    "let poet = await transformers.pipeline('text2text-generation', 't5-small', {quantized: false});\n",
    "let result = await poet('Where is paris?', {\n",
    "    max_new_tokens: 200,\n",
    "    // temperature: 0.9,\n",
    "    // repetition_penalty: 2.0,\n",
    "    // no_repeat_ngram_size: 3,\n",
    "    // top_k: 20,\n",
    "    // do_sample: true,\n",
    "});\n",
    "console.log(result)"
   ]
  },
  {
   "cell_type": "code",
   "execution_count": 34,
   "metadata": {
    "dotnet_interactive": {
     "language": "javascript"
    },
    "polyglot_notebook": {
     "kernelName": "javascript"
    }
   },
   "outputs": [
    {
     "data": {
      "text/plain": [
       "No model specified. Using default model: \"Xenova/distilbert-base-uncased-finetuned-sst-2-english\"."
      ]
     },
     "metadata": {},
     "output_type": "display_data"
    },
    {
     "ename": "Error",
     "evalue": "Unexpected token 'U', \"Unauthorized\" is not valid JSON",
     "output_type": "error",
     "traceback": [
      "Unexpected token 'U', \"Unauthorized\" is not valid JSON"
     ]
    }
   ],
   "source": [
    "console.log(await transformers.pipeline('sentiment-analysis'))"
   ]
  },
  {
   "attachments": {},
   "cell_type": "markdown",
   "metadata": {},
   "source": [
    "# General Notes\n",
    "\n",
    "\n",
    "## Models in Action\n",
    "\n",
    "### Real-time video editing\n",
    " * https://app.runwayml.com\n",
    " * https://twitter.com/StabilityAI_JP\n",
    " "
   ]
  },
  {
   "cell_type": "code",
   "execution_count": null,
   "metadata": {
    "dotnet_interactive": {
     "language": "javascript"
    },
    "polyglot_notebook": {
     "kernelName": "javascript"
    }
   },
   "outputs": [],
   "source": [
    "// Discard\n",
    "huggingFaceHub = await import('https://cdn.jsdelivr.net/npm/@huggingface/hub@0.8.3/+esm');\n",
    "repo = { type: \"model\", name: \"EleutherAI/pythia-70m-deduped\" };\n",
    "config = await huggingFaceHub.downloadFile({repo: repo, path: \"config.json\"});\n",
    "model = await huggingFaceHub.downloadFile({repo: repo, path: \"pytorch_model.bin\"});"
   ]
  },
  {
   "cell_type": "code",
   "execution_count": null,
   "metadata": {
    "dotnet_interactive": {
     "language": "javascript"
    },
    "polyglot_notebook": {
     "kernelName": "javascript"
    }
   },
   "outputs": [],
   "source": []
  }
 ],
 "metadata": {
  "kernelspec": {
   "display_name": ".NET (C#)",
   "language": "C#",
   "name": ".net-csharp"
  },
  "language_info": {
   "name": "polyglot-notebook"
  },
  "polyglot_notebook": {
   "kernelInfo": {
    "defaultKernelName": "csharp",
    "items": [
     {
      "aliases": [],
      "name": "csharp"
     },
     {
      "aliases": [],
      "languageName": "javascript",
      "name": "javascript"
     }
    ]
   }
  }
 },
 "nbformat": 4,
 "nbformat_minor": 2
}
